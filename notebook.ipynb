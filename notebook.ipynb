{
 "cells": [
  {
   "cell_type": "markdown",
   "source": "## Querying data table from BigQuery and analyzing it by answering questions with help of sql queries.",
   "metadata": {
    "cell_id": "0b0d97cc-8d5d-48b1-b476-dd35b067db88",
    "tags": [],
    "is_collapsed": false,
    "deepnote_cell_type": "text-cell-h2",
    "deepnote_cell_height": 110
   }
  },
  {
   "cell_type": "markdown",
   "source": "### An original dataset, hotel booking is from Kaggle.",
   "metadata": {
    "cell_id": "0a930f90-297d-4d80-9aac-5a7cd7640c02",
    "tags": [],
    "is_collapsed": false,
    "deepnote_cell_type": "text-cell-h3",
    "deepnote_cell_height": 62
   }
  },
  {
   "cell_type": "code",
   "metadata": {
    "cell_id": "632b0876-6ee4-4f14-9376-b8076f8436e3",
    "tags": [],
    "deepnote_to_be_reexecuted": false,
    "source_hash": "13698471",
    "execution_start": 1646230346369,
    "execution_millis": 6,
    "deepnote_cell_type": "code",
    "deepnote_cell_height": 172.1875,
    "deepnote_output_heights": [
     21.1875
    ]
   },
   "source": "import os\n\nos.environ[\"TOKEN_NAME\"]\nos.environ[\"TOKEN_SECRET\"]",
   "execution_count": null,
   "outputs": [
    {
     "output_type": "execute_result",
     "execution_count": 1,
     "data": {
      "text/plain": "'KBL+4P4tQZq65+6oi8UVuQ==:D2qaUFyZsWCb8NA9xYwyZXQaVKqfosdJ'"
     },
     "metadata": {}
    }
   ]
  },
  {
   "cell_type": "markdown",
   "source": "To use BigQuery, we'll import the Python package below:",
   "metadata": {
    "cell_id": "7d8892dc-b6c1-4e5b-8b93-39265d2845da",
    "tags": [],
    "is_collapsed": false,
    "deepnote_cell_type": "text-cell-p",
    "deepnote_cell_height": 52.390625
   }
  },
  {
   "cell_type": "code",
   "metadata": {
    "cell_id": "6af37be0-20c4-4ad0-9a27-6e04755f98e2",
    "tags": [],
    "deepnote_to_be_reexecuted": false,
    "source_hash": "c66c8d2c",
    "execution_start": 1646245015757,
    "execution_millis": 1,
    "deepnote_cell_type": "code",
    "deepnote_cell_height": 81
   },
   "source": "from google.cloud import bigquery",
   "execution_count": null,
   "outputs": []
  },
  {
   "cell_type": "markdown",
   "source": "### Retrieving the table to analyze",
   "metadata": {
    "cell_id": "03a23570-c44b-4de7-8bdb-975add7191e8",
    "tags": [],
    "is_collapsed": false,
    "deepnote_cell_type": "text-cell-h3",
    "deepnote_cell_height": 62
   }
  },
  {
   "cell_type": "code",
   "metadata": {
    "tags": [],
    "deepnote_variable_name": "df_1",
    "sql_integration_id": "b81821bf-50c1-41d8-8a1b-f9765166a7a2",
    "cell_id": "dc3911bd-2372-4e89-adf2-7a71db0dd9cb",
    "deepnote_to_be_reexecuted": false,
    "source_hash": "56059851",
    "execution_start": 1646507083079,
    "execution_millis": 16955,
    "deepnote_sql_source": "SELECT * FROM hotel_booking.table0",
    "deepnote_table_state": {
     "pageSize": 10,
     "pageIndex": 11935,
     "filters": [],
     "sortBy": []
    },
    "deepnote_table_loading": false,
    "deepnote_cell_type": "sql",
    "deepnote_cell_height": 587
   },
   "source": "\n\ndf_1 = _deepnote_execute_sql(\"\"\"SELECT * FROM hotel_booking.table0\n\"\"\", 'SQL_B81821BF_50C1_41D8_8A1B_F9765166A7A2')\ndf_1",
   "execution_count": null,
   "outputs": [
    {
     "output_type": "execute_result",
     "execution_count": 26,
     "data": {
      "application/vnd.deepnote.dataframe.v3+json": {
       "column_count": 36,
       "row_count": 119390,
       "columns": [
        {
         "name": "hotel",
         "dtype": "object"
        },
        {
         "name": "is_canceled",
         "dtype": "int64"
        },
        {
         "name": "lead_time",
         "dtype": "int64"
        },
        {
         "name": "arrival_date_year",
         "dtype": "int64"
        },
        {
         "name": "arrival_date_month",
         "dtype": "object"
        },
        {
         "name": "arrival_date_week_number",
         "dtype": "int64"
        },
        {
         "name": "arrival_date_day_of_month",
         "dtype": "int64"
        },
        {
         "name": "stays_in_weekend_nights",
         "dtype": "int64"
        },
        {
         "name": "stays_in_week_nights",
         "dtype": "int64"
        },
        {
         "name": "adults",
         "dtype": "int64"
        },
        {
         "name": "children",
         "dtype": "float64"
        },
        {
         "name": "babies",
         "dtype": "int64"
        },
        {
         "name": "meal",
         "dtype": "object"
        },
        {
         "name": "country",
         "dtype": "object"
        },
        {
         "name": "market_segment",
         "dtype": "object"
        },
        {
         "name": "distribution_channel",
         "dtype": "object"
        },
        {
         "name": "is_repeated_guest",
         "dtype": "int64"
        },
        {
         "name": "previous_cancellations",
         "dtype": "int64"
        },
        {
         "name": "previous_bookings_not_canceled",
         "dtype": "int64"
        },
        {
         "name": "reserved_room_type",
         "dtype": "object"
        },
        {
         "name": "assigned_room_type",
         "dtype": "object"
        },
        {
         "name": "booking_changes",
         "dtype": "int64"
        },
        {
         "name": "deposit_type",
         "dtype": "object"
        },
        {
         "name": "agent",
         "dtype": "float64"
        },
        {
         "name": "company",
         "dtype": "float64"
        },
        {
         "name": "days_in_waiting_list",
         "dtype": "int64"
        },
        {
         "name": "customer_type",
         "dtype": "object"
        },
        {
         "name": "adr",
         "dtype": "float64"
        },
        {
         "name": "required_car_parking_spaces",
         "dtype": "int64"
        },
        {
         "name": "total_of_special_requests",
         "dtype": "int64"
        },
        {
         "name": "reservation_status",
         "dtype": "object"
        },
        {
         "name": "reservation_status_date",
         "dtype": "object"
        },
        {
         "name": "name",
         "dtype": "object"
        },
        {
         "name": "email",
         "dtype": "object"
        },
        {
         "name": "phone_number",
         "dtype": "object"
        },
        {
         "name": "credit_card",
         "dtype": "object"
        },
        {
         "name": "_deepnote_index_column",
         "dtype": "int64"
        }
       ],
       "rows": [
        {
         "hotel": "Resort Hotel",
         "is_canceled": 0,
         "lead_time": 59,
         "arrival_date_year": 2016,
         "arrival_date_month": "September",
         "arrival_date_week_number": 36,
         "arrival_date_day_of_month": 3,
         "stays_in_weekend_nights": 2,
         "stays_in_week_nights": 5,
         "adults": 4,
         "children": 0,
         "babies": 0,
         "meal": "BB",
         "country": "PRT",
         "market_segment": "Direct",
         "distribution_channel": "Direct",
         "is_repeated_guest": 0,
         "previous_cancellations": 0,
         "previous_bookings_not_canceled": 0,
         "reserved_room_type": "H",
         "assigned_room_type": "H",
         "booking_changes": 0,
         "deposit_type": "No Deposit",
         "agent": 250,
         "company": "nan",
         "days_in_waiting_list": 0,
         "customer_type": "Transient",
         "adr": 251,
         "required_car_parking_spaces": 1,
         "total_of_special_requests": 0,
         "reservation_status": "Check-Out",
         "reservation_status_date": "2016-09-10",
         "name": "Heather Roach",
         "email": "Heather_R@att.com",
         "phone_number": "567-354-5142",
         "credit_card": "************4104",
         "_deepnote_index_column": 119350
        },
        {
         "hotel": "Resort Hotel",
         "is_canceled": 0,
         "lead_time": 55,
         "arrival_date_year": 2016,
         "arrival_date_month": "September",
         "arrival_date_week_number": 38,
         "arrival_date_day_of_month": 17,
         "stays_in_weekend_nights": 2,
         "stays_in_week_nights": 1,
         "adults": 4,
         "children": 0,
         "babies": 0,
         "meal": "BB",
         "country": "USA",
         "market_segment": "Direct",
         "distribution_channel": "Direct",
         "is_repeated_guest": 0,
         "previous_cancellations": 0,
         "previous_bookings_not_canceled": 0,
         "reserved_room_type": "H",
         "assigned_room_type": "H",
         "booking_changes": 4,
         "deposit_type": "No Deposit",
         "agent": 250,
         "company": "nan",
         "days_in_waiting_list": 0,
         "customer_type": "Transient",
         "adr": 205.67,
         "required_car_parking_spaces": 1,
         "total_of_special_requests": 0,
         "reservation_status": "Check-Out",
         "reservation_status_date": "2016-09-20",
         "name": "Paula Deleon",
         "email": "Paula.D@comcast.net",
         "phone_number": "882-765-0112",
         "credit_card": "************9788",
         "_deepnote_index_column": 119351
        },
        {
         "hotel": "Resort Hotel",
         "is_canceled": 0,
         "lead_time": 5,
         "arrival_date_year": 2017,
         "arrival_date_month": "May",
         "arrival_date_week_number": 20,
         "arrival_date_day_of_month": 15,
         "stays_in_weekend_nights": 1,
         "stays_in_week_nights": 1,
         "adults": 3,
         "children": 0,
         "babies": 0,
         "meal": "BB",
         "country": "PRT",
         "market_segment": "Direct",
         "distribution_channel": "TA/TO",
         "is_repeated_guest": 1,
         "previous_cancellations": 0,
         "previous_bookings_not_canceled": 0,
         "reserved_room_type": "H",
         "assigned_room_type": "H",
         "booking_changes": 0,
         "deposit_type": "No Deposit",
         "agent": 250,
         "company": "nan",
         "days_in_waiting_list": 0,
         "customer_type": "Transient",
         "adr": 144.5,
         "required_car_parking_spaces": 1,
         "total_of_special_requests": 1,
         "reservation_status": "Check-Out",
         "reservation_status_date": "2017-05-17",
         "name": "Duane Lewis",
         "email": "Duane_L@zoho.com",
         "phone_number": "793-816-1767",
         "credit_card": "************7572",
         "_deepnote_index_column": 119352
        },
        {
         "hotel": "Resort Hotel",
         "is_canceled": 0,
         "lead_time": 96,
         "arrival_date_year": 2016,
         "arrival_date_month": "September",
         "arrival_date_week_number": 39,
         "arrival_date_day_of_month": 18,
         "stays_in_weekend_nights": 2,
         "stays_in_week_nights": 3,
         "adults": 2,
         "children": 0,
         "babies": 0,
         "meal": "BB",
         "country": "PRT",
         "market_segment": "Direct",
         "distribution_channel": "Direct",
         "is_repeated_guest": 0,
         "previous_cancellations": 0,
         "previous_bookings_not_canceled": 0,
         "reserved_room_type": "H",
         "assigned_room_type": "H",
         "booking_changes": 2,
         "deposit_type": "No Deposit",
         "agent": 250,
         "company": "nan",
         "days_in_waiting_list": 0,
         "customer_type": "Transient",
         "adr": 184.8,
         "required_car_parking_spaces": 1,
         "total_of_special_requests": 2,
         "reservation_status": "Check-Out",
         "reservation_status_date": "2016-09-23",
         "name": "James Spence",
         "email": "James.S@hotmail.com",
         "phone_number": "264-235-3778",
         "credit_card": "************7422",
         "_deepnote_index_column": 119353
        },
        {
         "hotel": "Resort Hotel",
         "is_canceled": 0,
         "lead_time": 0,
         "arrival_date_year": 2016,
         "arrival_date_month": "September",
         "arrival_date_week_number": 40,
         "arrival_date_day_of_month": 28,
         "stays_in_weekend_nights": 0,
         "stays_in_week_nights": 1,
         "adults": 3,
         "children": 1,
         "babies": 0,
         "meal": "BB",
         "country": "PRT",
         "market_segment": "Direct",
         "distribution_channel": "Direct",
         "is_repeated_guest": 0,
         "previous_cancellations": 0,
         "previous_bookings_not_canceled": 0,
         "reserved_room_type": "H",
         "assigned_room_type": "H",
         "booking_changes": 0,
         "deposit_type": "No Deposit",
         "agent": 250,
         "company": "nan",
         "days_in_waiting_list": 0,
         "customer_type": "Transient",
         "adr": 185,
         "required_car_parking_spaces": 0,
         "total_of_special_requests": 0,
         "reservation_status": "Check-Out",
         "reservation_status_date": "2016-09-29",
         "name": "Anthony Adams",
         "email": "Adams.Anthony@hotmail.com",
         "phone_number": "965-098-9567",
         "credit_card": "************3442",
         "_deepnote_index_column": 119354
        },
        {
         "hotel": "Resort Hotel",
         "is_canceled": 0,
         "lead_time": 12,
         "arrival_date_year": 2016,
         "arrival_date_month": "October",
         "arrival_date_week_number": 41,
         "arrival_date_day_of_month": 8,
         "stays_in_weekend_nights": 0,
         "stays_in_week_nights": 1,
         "adults": 3,
         "children": 1,
         "babies": 0,
         "meal": "BB",
         "country": "PRT",
         "market_segment": "Direct",
         "distribution_channel": "Direct",
         "is_repeated_guest": 0,
         "previous_cancellations": 0,
         "previous_bookings_not_canceled": 0,
         "reserved_room_type": "H",
         "assigned_room_type": "H",
         "booking_changes": 0,
         "deposit_type": "No Deposit",
         "agent": 250,
         "company": "nan",
         "days_in_waiting_list": 0,
         "customer_type": "Transient",
         "adr": 155,
         "required_car_parking_spaces": 0,
         "total_of_special_requests": 0,
         "reservation_status": "Check-Out",
         "reservation_status_date": "2016-10-09",
         "name": "John Johnson",
         "email": "John.Johnson74@xfinity.com",
         "phone_number": "581-565-8361",
         "credit_card": "************8534",
         "_deepnote_index_column": 119355
        },
        {
         "hotel": "Resort Hotel",
         "is_canceled": 0,
         "lead_time": 16,
         "arrival_date_year": 2016,
         "arrival_date_month": "October",
         "arrival_date_week_number": 41,
         "arrival_date_day_of_month": 7,
         "stays_in_weekend_nights": 0,
         "stays_in_week_nights": 2,
         "adults": 2,
         "children": 2,
         "babies": 0,
         "meal": "BB",
         "country": "ESP",
         "market_segment": "Direct",
         "distribution_channel": "Direct",
         "is_repeated_guest": 0,
         "previous_cancellations": 0,
         "previous_bookings_not_canceled": 0,
         "reserved_room_type": "H",
         "assigned_room_type": "H",
         "booking_changes": 0,
         "deposit_type": "No Deposit",
         "agent": 250,
         "company": "nan",
         "days_in_waiting_list": 0,
         "customer_type": "Transient",
         "adr": 161,
         "required_car_parking_spaces": 1,
         "total_of_special_requests": 1,
         "reservation_status": "Check-Out",
         "reservation_status_date": "2016-10-09",
         "name": "Kelly Meyers",
         "email": "KellyMeyers17@yandex.com",
         "phone_number": "162-325-9183",
         "credit_card": "************2002",
         "_deepnote_index_column": 119356
        },
        {
         "hotel": "Resort Hotel",
         "is_canceled": 0,
         "lead_time": 3,
         "arrival_date_year": 2016,
         "arrival_date_month": "October",
         "arrival_date_week_number": 43,
         "arrival_date_day_of_month": 20,
         "stays_in_weekend_nights": 0,
         "stays_in_week_nights": 1,
         "adults": 3,
         "children": 0,
         "babies": 0,
         "meal": "BB",
         "country": "PRT",
         "market_segment": "Direct",
         "distribution_channel": "Direct",
         "is_repeated_guest": 0,
         "previous_cancellations": 0,
         "previous_bookings_not_canceled": 0,
         "reserved_room_type": "H",
         "assigned_room_type": "H",
         "booking_changes": 0,
         "deposit_type": "No Deposit",
         "agent": 250,
         "company": "nan",
         "days_in_waiting_list": 0,
         "customer_type": "Transient",
         "adr": 130.5,
         "required_car_parking_spaces": 1,
         "total_of_special_requests": 0,
         "reservation_status": "Check-Out",
         "reservation_status_date": "2016-10-21",
         "name": "Ryan White",
         "email": "RyanWhite@xfinity.com",
         "phone_number": "414-850-3217",
         "credit_card": "************4931",
         "_deepnote_index_column": 119357
        },
        {
         "hotel": "Resort Hotel",
         "is_canceled": 0,
         "lead_time": 52,
         "arrival_date_year": 2016,
         "arrival_date_month": "October",
         "arrival_date_week_number": 44,
         "arrival_date_day_of_month": 23,
         "stays_in_weekend_nights": 2,
         "stays_in_week_nights": 3,
         "adults": 3,
         "children": 0,
         "babies": 0,
         "meal": "HB",
         "country": "PRT",
         "market_segment": "Direct",
         "distribution_channel": "Direct",
         "is_repeated_guest": 0,
         "previous_cancellations": 0,
         "previous_bookings_not_canceled": 0,
         "reserved_room_type": "H",
         "assigned_room_type": "H",
         "booking_changes": 1,
         "deposit_type": "No Deposit",
         "agent": 250,
         "company": "nan",
         "days_in_waiting_list": 0,
         "customer_type": "Transient",
         "adr": 171,
         "required_car_parking_spaces": 0,
         "total_of_special_requests": 0,
         "reservation_status": "Check-Out",
         "reservation_status_date": "2016-10-28",
         "name": "Dylan Miranda",
         "email": "Miranda_Dylan47@verizon.com",
         "phone_number": "528-786-7896",
         "credit_card": "************6751",
         "_deepnote_index_column": 119358
        },
        {
         "hotel": "Resort Hotel",
         "is_canceled": 0,
         "lead_time": 20,
         "arrival_date_year": 2016,
         "arrival_date_month": "October",
         "arrival_date_week_number": 44,
         "arrival_date_day_of_month": 28,
         "stays_in_weekend_nights": 0,
         "stays_in_week_nights": 2,
         "adults": 3,
         "children": 0,
         "babies": 0,
         "meal": "BB",
         "country": "PRT",
         "market_segment": "Direct",
         "distribution_channel": "Direct",
         "is_repeated_guest": 0,
         "previous_cancellations": 0,
         "previous_bookings_not_canceled": 0,
         "reserved_room_type": "H",
         "assigned_room_type": "H",
         "booking_changes": 0,
         "deposit_type": "No Deposit",
         "agent": 250,
         "company": "nan",
         "days_in_waiting_list": 0,
         "customer_type": "Transient",
         "adr": 145,
         "required_car_parking_spaces": 0,
         "total_of_special_requests": 0,
         "reservation_status": "Check-Out",
         "reservation_status_date": "2016-10-30",
         "name": "Amber Lopez",
         "email": "AmberLopez@comcast.net",
         "phone_number": "503-849-4589",
         "credit_card": "************9749",
         "_deepnote_index_column": 119359
        }
       ]
      },
      "text/plain": "               hotel  is_canceled  lead_time  arrival_date_year  \\\n0       Resort Hotel            0          0               2015   \n1       Resort Hotel            1          0               2015   \n2       Resort Hotel            0          0               2015   \n3       Resort Hotel            1          0               2016   \n4       Resort Hotel            1          0               2016   \n...              ...          ...        ...                ...   \n119385  Resort Hotel            0          0               2017   \n119386  Resort Hotel            0         11               2016   \n119387  Resort Hotel            0         11               2016   \n119388  Resort Hotel            1        124               2017   \n119389  Resort Hotel            0        124               2017   \n\n       arrival_date_month  arrival_date_week_number  \\\n0                    July                        29   \n1                    July                        29   \n2                  August                        32   \n3                February                         8   \n4                November                        48   \n...                   ...                       ...   \n119385             August                        35   \n119386               June                        24   \n119387               June                        24   \n119388              April                        15   \n119389              April                        15   \n\n        arrival_date_day_of_month  stays_in_weekend_nights  \\\n0                              13                        1   \n1                              17                        0   \n2                               5                        0   \n3                              15                        0   \n4                              21                        0   \n...                           ...                      ...   \n119385                         31                        0   \n119386                         10                        0   \n119387                         10                        0   \n119388                          9                        2   \n119389                          9                        4   \n\n        stays_in_week_nights  adults  ...    customer_type    adr  \\\n0                          1       4  ...        Transient  150.0   \n1                          1       2  ...        Transient  136.0   \n2                          1       2  ...        Transient  200.0   \n3                          0       0  ...        Transient    0.0   \n4                          0       0  ...            Group    0.0   \n...                      ...     ...  ...              ...    ...   \n119385                     2       4  ...        Transient  244.0   \n119386                     2       2  ...  Transient-Party  176.9   \n119387                     2       2  ...  Transient-Party  176.9   \n119388                     5       2  ...        Transient  120.0   \n119389                    10       2  ...         Contract  120.0   \n\n       required_car_parking_spaces total_of_special_requests  \\\n0                                0                         0   \n1                                0                         0   \n2                                0                         0   \n3                                0                         0   \n4                                0                         0   \n...                            ...                       ...   \n119385                           1                         0   \n119386                           0                         1   \n119387                           0                         0   \n119388                           0                         0   \n119389                           0                         0   \n\n       reservation_status reservation_status_date               name  \\\n0               Check-Out              2015-07-15   Micheal Randolph   \n1                Canceled              2015-07-17      Rodney Conner   \n2               Check-Out              2015-08-06      Justin Potter   \n3                Canceled              2016-02-15          Alex Lang   \n4                Canceled              2016-11-21     Justin Collins   \n...                   ...                     ...                ...   \n119385          Check-Out              2017-09-02    Nichole Johnson   \n119386          Check-Out              2016-06-12      Cody Gonzalez   \n119387          Check-Out              2016-06-12    Dennis Schwartz   \n119388           Canceled              2017-02-28  Sharon Montgomery   \n119389          Check-Out              2017-04-23        Kevin Black   \n\n                                email  phone_number       credit_card  \n0         MichealRandolph@comcast.net  533-493-2373  ************2161  \n1              Rodney_C89@verizon.com  917-447-5322  ************8021  \n2                   Justin.P@mail.com  283-678-0443  ************4806  \n3                  Lang_Alex@mail.com  479-339-8268  ************4034  \n4                    Justin.C@att.com  721-919-3589  ************6051  \n...                               ...           ...               ...  \n119385    Johnson.Nichole@outlook.com  650-022-4348  ************8555  \n119386              Cody_G26@mail.com  259-167-5535  ************2419  \n119387        Dennis_Schwartz@aol.com  778-873-0003  ************1688  \n119388  Montgomery_Sharon@comcast.net  406-058-5659  ************8331  \n119389      Kevin.Black25@comcast.net  645-300-7907  ************3738  \n\n[119390 rows x 36 columns]",
      "text/html": "<div>\n<style scoped>\n    .dataframe tbody tr th:only-of-type {\n        vertical-align: middle;\n    }\n\n    .dataframe tbody tr th {\n        vertical-align: top;\n    }\n\n    .dataframe thead th {\n        text-align: right;\n    }\n</style>\n<table border=\"1\" class=\"dataframe\">\n  <thead>\n    <tr style=\"text-align: right;\">\n      <th></th>\n      <th>hotel</th>\n      <th>is_canceled</th>\n      <th>lead_time</th>\n      <th>arrival_date_year</th>\n      <th>arrival_date_month</th>\n      <th>arrival_date_week_number</th>\n      <th>arrival_date_day_of_month</th>\n      <th>stays_in_weekend_nights</th>\n      <th>stays_in_week_nights</th>\n      <th>adults</th>\n      <th>...</th>\n      <th>customer_type</th>\n      <th>adr</th>\n      <th>required_car_parking_spaces</th>\n      <th>total_of_special_requests</th>\n      <th>reservation_status</th>\n      <th>reservation_status_date</th>\n      <th>name</th>\n      <th>email</th>\n      <th>phone_number</th>\n      <th>credit_card</th>\n    </tr>\n  </thead>\n  <tbody>\n    <tr>\n      <th>0</th>\n      <td>Resort Hotel</td>\n      <td>0</td>\n      <td>0</td>\n      <td>2015</td>\n      <td>July</td>\n      <td>29</td>\n      <td>13</td>\n      <td>1</td>\n      <td>1</td>\n      <td>4</td>\n      <td>...</td>\n      <td>Transient</td>\n      <td>150.0</td>\n      <td>0</td>\n      <td>0</td>\n      <td>Check-Out</td>\n      <td>2015-07-15</td>\n      <td>Micheal Randolph</td>\n      <td>MichealRandolph@comcast.net</td>\n      <td>533-493-2373</td>\n      <td>************2161</td>\n    </tr>\n    <tr>\n      <th>1</th>\n      <td>Resort Hotel</td>\n      <td>1</td>\n      <td>0</td>\n      <td>2015</td>\n      <td>July</td>\n      <td>29</td>\n      <td>17</td>\n      <td>0</td>\n      <td>1</td>\n      <td>2</td>\n      <td>...</td>\n      <td>Transient</td>\n      <td>136.0</td>\n      <td>0</td>\n      <td>0</td>\n      <td>Canceled</td>\n      <td>2015-07-17</td>\n      <td>Rodney Conner</td>\n      <td>Rodney_C89@verizon.com</td>\n      <td>917-447-5322</td>\n      <td>************8021</td>\n    </tr>\n    <tr>\n      <th>2</th>\n      <td>Resort Hotel</td>\n      <td>0</td>\n      <td>0</td>\n      <td>2015</td>\n      <td>August</td>\n      <td>32</td>\n      <td>5</td>\n      <td>0</td>\n      <td>1</td>\n      <td>2</td>\n      <td>...</td>\n      <td>Transient</td>\n      <td>200.0</td>\n      <td>0</td>\n      <td>0</td>\n      <td>Check-Out</td>\n      <td>2015-08-06</td>\n      <td>Justin Potter</td>\n      <td>Justin.P@mail.com</td>\n      <td>283-678-0443</td>\n      <td>************4806</td>\n    </tr>\n    <tr>\n      <th>3</th>\n      <td>Resort Hotel</td>\n      <td>1</td>\n      <td>0</td>\n      <td>2016</td>\n      <td>February</td>\n      <td>8</td>\n      <td>15</td>\n      <td>0</td>\n      <td>0</td>\n      <td>0</td>\n      <td>...</td>\n      <td>Transient</td>\n      <td>0.0</td>\n      <td>0</td>\n      <td>0</td>\n      <td>Canceled</td>\n      <td>2016-02-15</td>\n      <td>Alex Lang</td>\n      <td>Lang_Alex@mail.com</td>\n      <td>479-339-8268</td>\n      <td>************4034</td>\n    </tr>\n    <tr>\n      <th>4</th>\n      <td>Resort Hotel</td>\n      <td>1</td>\n      <td>0</td>\n      <td>2016</td>\n      <td>November</td>\n      <td>48</td>\n      <td>21</td>\n      <td>0</td>\n      <td>0</td>\n      <td>0</td>\n      <td>...</td>\n      <td>Group</td>\n      <td>0.0</td>\n      <td>0</td>\n      <td>0</td>\n      <td>Canceled</td>\n      <td>2016-11-21</td>\n      <td>Justin Collins</td>\n      <td>Justin.C@att.com</td>\n      <td>721-919-3589</td>\n      <td>************6051</td>\n    </tr>\n    <tr>\n      <th>...</th>\n      <td>...</td>\n      <td>...</td>\n      <td>...</td>\n      <td>...</td>\n      <td>...</td>\n      <td>...</td>\n      <td>...</td>\n      <td>...</td>\n      <td>...</td>\n      <td>...</td>\n      <td>...</td>\n      <td>...</td>\n      <td>...</td>\n      <td>...</td>\n      <td>...</td>\n      <td>...</td>\n      <td>...</td>\n      <td>...</td>\n      <td>...</td>\n      <td>...</td>\n      <td>...</td>\n    </tr>\n    <tr>\n      <th>119385</th>\n      <td>Resort Hotel</td>\n      <td>0</td>\n      <td>0</td>\n      <td>2017</td>\n      <td>August</td>\n      <td>35</td>\n      <td>31</td>\n      <td>0</td>\n      <td>2</td>\n      <td>4</td>\n      <td>...</td>\n      <td>Transient</td>\n      <td>244.0</td>\n      <td>1</td>\n      <td>0</td>\n      <td>Check-Out</td>\n      <td>2017-09-02</td>\n      <td>Nichole Johnson</td>\n      <td>Johnson.Nichole@outlook.com</td>\n      <td>650-022-4348</td>\n      <td>************8555</td>\n    </tr>\n    <tr>\n      <th>119386</th>\n      <td>Resort Hotel</td>\n      <td>0</td>\n      <td>11</td>\n      <td>2016</td>\n      <td>June</td>\n      <td>24</td>\n      <td>10</td>\n      <td>0</td>\n      <td>2</td>\n      <td>2</td>\n      <td>...</td>\n      <td>Transient-Party</td>\n      <td>176.9</td>\n      <td>0</td>\n      <td>1</td>\n      <td>Check-Out</td>\n      <td>2016-06-12</td>\n      <td>Cody Gonzalez</td>\n      <td>Cody_G26@mail.com</td>\n      <td>259-167-5535</td>\n      <td>************2419</td>\n    </tr>\n    <tr>\n      <th>119387</th>\n      <td>Resort Hotel</td>\n      <td>0</td>\n      <td>11</td>\n      <td>2016</td>\n      <td>June</td>\n      <td>24</td>\n      <td>10</td>\n      <td>0</td>\n      <td>2</td>\n      <td>2</td>\n      <td>...</td>\n      <td>Transient-Party</td>\n      <td>176.9</td>\n      <td>0</td>\n      <td>0</td>\n      <td>Check-Out</td>\n      <td>2016-06-12</td>\n      <td>Dennis Schwartz</td>\n      <td>Dennis_Schwartz@aol.com</td>\n      <td>778-873-0003</td>\n      <td>************1688</td>\n    </tr>\n    <tr>\n      <th>119388</th>\n      <td>Resort Hotel</td>\n      <td>1</td>\n      <td>124</td>\n      <td>2017</td>\n      <td>April</td>\n      <td>15</td>\n      <td>9</td>\n      <td>2</td>\n      <td>5</td>\n      <td>2</td>\n      <td>...</td>\n      <td>Transient</td>\n      <td>120.0</td>\n      <td>0</td>\n      <td>0</td>\n      <td>Canceled</td>\n      <td>2017-02-28</td>\n      <td>Sharon Montgomery</td>\n      <td>Montgomery_Sharon@comcast.net</td>\n      <td>406-058-5659</td>\n      <td>************8331</td>\n    </tr>\n    <tr>\n      <th>119389</th>\n      <td>Resort Hotel</td>\n      <td>0</td>\n      <td>124</td>\n      <td>2017</td>\n      <td>April</td>\n      <td>15</td>\n      <td>9</td>\n      <td>4</td>\n      <td>10</td>\n      <td>2</td>\n      <td>...</td>\n      <td>Contract</td>\n      <td>120.0</td>\n      <td>0</td>\n      <td>0</td>\n      <td>Check-Out</td>\n      <td>2017-04-23</td>\n      <td>Kevin Black</td>\n      <td>Kevin.Black25@comcast.net</td>\n      <td>645-300-7907</td>\n      <td>************3738</td>\n    </tr>\n  </tbody>\n</table>\n<p>119390 rows × 36 columns</p>\n</div>"
     },
     "metadata": {}
    }
   ]
  },
  {
   "cell_type": "markdown",
   "source": "### 1. What types of hotel in the table?",
   "metadata": {
    "cell_id": "5572d526-75c3-4f0a-9a9d-6144fb8b58c8",
    "tags": [],
    "is_collapsed": false,
    "deepnote_cell_type": "text-cell-h3",
    "deepnote_cell_height": 62
   }
  },
  {
   "cell_type": "code",
   "metadata": {
    "tags": [],
    "deepnote_variable_name": "df_4",
    "sql_integration_id": "b81821bf-50c1-41d8-8a1b-f9765166a7a2",
    "cell_id": "816dcb12-ec48-4e41-9902-14678a05ba39",
    "deepnote_to_be_reexecuted": false,
    "source_hash": "dd9d3bcb",
    "execution_start": 1646426615863,
    "execution_millis": 2921,
    "deepnote_sql_source": "SELECT DISTINCT hotel\nFROM hotel_booking.table0",
    "deepnote_cell_type": "sql",
    "deepnote_cell_height": 277
   },
   "source": "\n\ndf_4 = _deepnote_execute_sql(\"\"\"SELECT DISTINCT hotel\nFROM hotel_booking.table0\n\"\"\", 'SQL_B81821BF_50C1_41D8_8A1B_F9765166A7A2')\ndf_4",
   "execution_count": null,
   "outputs": [
    {
     "output_type": "execute_result",
     "execution_count": 12,
     "data": {
      "application/vnd.deepnote.dataframe.v3+json": {
       "column_count": 1,
       "row_count": 2,
       "columns": [
        {
         "name": "hotel",
         "dtype": "object",
         "stats": {
          "unique_count": 2,
          "nan_count": 0,
          "categories": [
           {
            "name": "Resort Hotel",
            "count": 1
           },
           {
            "name": "City Hotel",
            "count": 1
           }
          ]
         }
        },
        {
         "name": "_deepnote_index_column",
         "dtype": "int64"
        }
       ],
       "rows": [
        {
         "hotel": "Resort Hotel",
         "_deepnote_index_column": 0
        },
        {
         "hotel": "City Hotel",
         "_deepnote_index_column": 1
        }
       ]
      },
      "text/plain": "          hotel\n0  Resort Hotel\n1    City Hotel",
      "text/html": "<div>\n<style scoped>\n    .dataframe tbody tr th:only-of-type {\n        vertical-align: middle;\n    }\n\n    .dataframe tbody tr th {\n        vertical-align: top;\n    }\n\n    .dataframe thead th {\n        text-align: right;\n    }\n</style>\n<table border=\"1\" class=\"dataframe\">\n  <thead>\n    <tr style=\"text-align: right;\">\n      <th></th>\n      <th>hotel</th>\n    </tr>\n  </thead>\n  <tbody>\n    <tr>\n      <th>0</th>\n      <td>Resort Hotel</td>\n    </tr>\n    <tr>\n      <th>1</th>\n      <td>City Hotel</td>\n    </tr>\n  </tbody>\n</table>\n</div>"
     },
     "metadata": {}
    }
   ]
  },
  {
   "cell_type": "markdown",
   "source": "### 2. Which guests have arrived more than once?",
   "metadata": {
    "cell_id": "ddba9481-87bd-4c61-8dd5-a9932dbc19c2",
    "tags": [],
    "is_collapsed": false,
    "deepnote_cell_type": "text-cell-h3",
    "deepnote_cell_height": 62
   }
  },
  {
   "cell_type": "code",
   "metadata": {
    "tags": [],
    "deepnote_variable_name": "df_2",
    "sql_integration_id": "b81821bf-50c1-41d8-8a1b-f9765166a7a2",
    "cell_id": "2d5fbeaf-e3e0-4f73-a582-5c8dda3ad02a",
    "deepnote_to_be_reexecuted": false,
    "source_hash": "6254eb4c",
    "execution_start": 1646426319408,
    "execution_millis": 2403,
    "deepnote_sql_source": "\n    SELECT DISTINCT name, email, phone_number            \n    FROM hotel_booking.table0\n    WHERE is_repeated_guest=1",
    "deepnote_cell_type": "sql",
    "deepnote_cell_height": 689
   },
   "source": "\n\ndf_2 = _deepnote_execute_sql(\"\"\"\n    SELECT DISTINCT name, email, phone_number            \n    FROM hotel_booking.table0\n    WHERE is_repeated_guest=1\n\"\"\", 'SQL_B81821BF_50C1_41D8_8A1B_F9765166A7A2')\ndf_2",
   "execution_count": null,
   "outputs": [
    {
     "output_type": "execute_result",
     "execution_count": 8,
     "data": {
      "application/vnd.deepnote.dataframe.v3+json": {
       "column_count": 3,
       "row_count": 3810,
       "columns": [
        {
         "name": "name",
         "dtype": "object",
         "stats": {
          "unique_count": 3692,
          "nan_count": 0,
          "categories": [
           {
            "name": "Charles Smith",
            "count": 4
           },
           {
            "name": "Michael Rodriguez",
            "count": 3
           },
           {
            "name": "3690 others",
            "count": 3803
           }
          ]
         }
        },
        {
         "name": "email",
         "dtype": "object",
         "stats": {
          "unique_count": 3805,
          "nan_count": 0,
          "categories": [
           {
            "name": "Robert_T@yandex.com",
            "count": 2
           },
           {
            "name": "Julie.J@outlook.com",
            "count": 2
           },
           {
            "name": "3803 others",
            "count": 3806
           }
          ]
         }
        },
        {
         "name": "phone_number",
         "dtype": "object",
         "stats": {
          "unique_count": 3810,
          "nan_count": 0,
          "categories": [
           {
            "name": "994-149-0119",
            "count": 1
           },
           {
            "name": "470-676-8598",
            "count": 1
           },
           {
            "name": "3808 others",
            "count": 3808
           }
          ]
         }
        },
        {
         "name": "_deepnote_index_column",
         "dtype": "int64"
        }
       ],
       "rows": [
        {
         "name": "Daniel Lewis",
         "email": "Daniel_Lewis90@gmail.com",
         "phone_number": "994-149-0119",
         "_deepnote_index_column": 0
        },
        {
         "name": "Matthew Kennedy",
         "email": "Kennedy.Matthew@protonmail.com",
         "phone_number": "470-676-8598",
         "_deepnote_index_column": 1
        },
        {
         "name": "Jamie Everett",
         "email": "Everett_Jamie91@yahoo.com",
         "phone_number": "677-139-1545",
         "_deepnote_index_column": 2
        },
        {
         "name": "Nathan Browning",
         "email": "Nathan.Browning@comcast.net",
         "phone_number": "708-559-3271",
         "_deepnote_index_column": 3
        },
        {
         "name": "Jeffrey Morrison",
         "email": "Morrison_Jeffrey@yandex.com",
         "phone_number": "665-783-1622",
         "_deepnote_index_column": 4
        },
        {
         "name": "Rebecca Stewart",
         "email": "Rebecca.S@att.com",
         "phone_number": "121-826-1340",
         "_deepnote_index_column": 5
        },
        {
         "name": "Antonio Long",
         "email": "Long.Antonio72@protonmail.com",
         "phone_number": "640-537-7316",
         "_deepnote_index_column": 6
        },
        {
         "name": "Adriana Gray",
         "email": "AGray@verizon.com",
         "phone_number": "461-628-2947",
         "_deepnote_index_column": 7
        },
        {
         "name": "Gilbert Miller",
         "email": "Miller.Gilbert@aol.com",
         "phone_number": "806-574-2045",
         "_deepnote_index_column": 8
        },
        {
         "name": "Timothy Torres",
         "email": "TTorres@protonmail.com",
         "phone_number": "422-113-4918",
         "_deepnote_index_column": 9
        }
       ]
      },
      "text/plain": "                   name                           email  phone_number\n0          Daniel Lewis        Daniel_Lewis90@gmail.com  994-149-0119\n1       Matthew Kennedy  Kennedy.Matthew@protonmail.com  470-676-8598\n2         Jamie Everett       Everett_Jamie91@yahoo.com  677-139-1545\n3       Nathan Browning     Nathan.Browning@comcast.net  708-559-3271\n4      Jeffrey Morrison     Morrison_Jeffrey@yandex.com  665-783-1622\n...                 ...                             ...           ...\n3805       Sheri Hebert                 Sheri_H@att.com  217-853-5924\n3806    Natalie Johnson     Johnson_Natalie@verizon.com  475-314-1923\n3807  Rebekah Schroeder           Rebekah.S@xfinity.com  700-903-7499\n3808        Duane Lewis                Duane_L@zoho.com  793-816-1767\n3809      Cody Gonzalez               Cody_G26@mail.com  259-167-5535\n\n[3810 rows x 3 columns]",
      "text/html": "<div>\n<style scoped>\n    .dataframe tbody tr th:only-of-type {\n        vertical-align: middle;\n    }\n\n    .dataframe tbody tr th {\n        vertical-align: top;\n    }\n\n    .dataframe thead th {\n        text-align: right;\n    }\n</style>\n<table border=\"1\" class=\"dataframe\">\n  <thead>\n    <tr style=\"text-align: right;\">\n      <th></th>\n      <th>name</th>\n      <th>email</th>\n      <th>phone_number</th>\n    </tr>\n  </thead>\n  <tbody>\n    <tr>\n      <th>0</th>\n      <td>Daniel Lewis</td>\n      <td>Daniel_Lewis90@gmail.com</td>\n      <td>994-149-0119</td>\n    </tr>\n    <tr>\n      <th>1</th>\n      <td>Matthew Kennedy</td>\n      <td>Kennedy.Matthew@protonmail.com</td>\n      <td>470-676-8598</td>\n    </tr>\n    <tr>\n      <th>2</th>\n      <td>Jamie Everett</td>\n      <td>Everett_Jamie91@yahoo.com</td>\n      <td>677-139-1545</td>\n    </tr>\n    <tr>\n      <th>3</th>\n      <td>Nathan Browning</td>\n      <td>Nathan.Browning@comcast.net</td>\n      <td>708-559-3271</td>\n    </tr>\n    <tr>\n      <th>4</th>\n      <td>Jeffrey Morrison</td>\n      <td>Morrison_Jeffrey@yandex.com</td>\n      <td>665-783-1622</td>\n    </tr>\n    <tr>\n      <th>...</th>\n      <td>...</td>\n      <td>...</td>\n      <td>...</td>\n    </tr>\n    <tr>\n      <th>3805</th>\n      <td>Sheri Hebert</td>\n      <td>Sheri_H@att.com</td>\n      <td>217-853-5924</td>\n    </tr>\n    <tr>\n      <th>3806</th>\n      <td>Natalie Johnson</td>\n      <td>Johnson_Natalie@verizon.com</td>\n      <td>475-314-1923</td>\n    </tr>\n    <tr>\n      <th>3807</th>\n      <td>Rebekah Schroeder</td>\n      <td>Rebekah.S@xfinity.com</td>\n      <td>700-903-7499</td>\n    </tr>\n    <tr>\n      <th>3808</th>\n      <td>Duane Lewis</td>\n      <td>Duane_L@zoho.com</td>\n      <td>793-816-1767</td>\n    </tr>\n    <tr>\n      <th>3809</th>\n      <td>Cody Gonzalez</td>\n      <td>Cody_G26@mail.com</td>\n      <td>259-167-5535</td>\n    </tr>\n  </tbody>\n</table>\n<p>3810 rows × 3 columns</p>\n</div>"
     },
     "metadata": {}
    }
   ]
  },
  {
   "cell_type": "markdown",
   "source": "### 3. Which month has the highest booking?",
   "metadata": {
    "cell_id": "882a6007-000b-480b-ae2c-db88a5354a0d",
    "tags": [],
    "is_collapsed": false,
    "deepnote_cell_type": "text-cell-h3",
    "deepnote_cell_height": 62
   }
  },
  {
   "cell_type": "code",
   "metadata": {
    "tags": [],
    "deepnote_variable_name": "df_8",
    "sql_integration_id": "b81821bf-50c1-41d8-8a1b-f9765166a7a2",
    "cell_id": "2711d064-49c1-4c1b-b652-27c276ad6822",
    "deepnote_to_be_reexecuted": false,
    "source_hash": "2b876a94",
    "execution_start": 1646506772539,
    "execution_millis": 2313,
    "deepnote_sql_source": "SELECT arrival_date_month, COUNT(*) as count\nFROM hotel_booking.table0\nGROUP BY arrival_date_month\nORDER BY count DESC",
    "deepnote_cell_type": "sql",
    "deepnote_cell_height": 692
   },
   "source": "\n\ndf_8 = _deepnote_execute_sql(\"\"\"SELECT arrival_date_month, COUNT(*) as count\nFROM hotel_booking.table0\nGROUP BY arrival_date_month\nORDER BY count DESC\n\"\"\", 'SQL_B81821BF_50C1_41D8_8A1B_F9765166A7A2')\ndf_8",
   "execution_count": null,
   "outputs": [
    {
     "output_type": "execute_result",
     "execution_count": 8,
     "data": {
      "application/vnd.deepnote.dataframe.v3+json": {
       "column_count": 2,
       "row_count": 12,
       "columns": [
        {
         "name": "arrival_date_month",
         "dtype": "object",
         "stats": {
          "unique_count": 12,
          "nan_count": 0,
          "categories": [
           {
            "name": "August",
            "count": 1
           },
           {
            "name": "July",
            "count": 1
           },
           {
            "name": "10 others",
            "count": 10
           }
          ]
         }
        },
        {
         "name": "count",
         "dtype": "int64",
         "stats": {
          "unique_count": 12,
          "nan_count": 0,
          "min": "5929",
          "max": "13877",
          "histogram": [
           {
            "bin_start": 5929,
            "bin_end": 6723.8,
            "count": 1
           },
           {
            "bin_start": 6723.8,
            "bin_end": 7518.6,
            "count": 2
           },
           {
            "bin_start": 7518.6,
            "bin_end": 8313.4,
            "count": 1
           },
           {
            "bin_start": 8313.4,
            "bin_end": 9108.2,
            "count": 0
           },
           {
            "bin_start": 9108.2,
            "bin_end": 9903,
            "count": 1
           },
           {
            "bin_start": 9903,
            "bin_end": 10697.8,
            "count": 1
           },
           {
            "bin_start": 10697.8,
            "bin_end": 11492.599999999999,
            "count": 3
           },
           {
            "bin_start": 11492.599999999999,
            "bin_end": 12287.4,
            "count": 1
           },
           {
            "bin_start": 12287.4,
            "bin_end": 13082.2,
            "count": 1
           },
           {
            "bin_start": 13082.2,
            "bin_end": 13877,
            "count": 1
           }
          ]
         }
        },
        {
         "name": "_deepnote_index_column",
         "dtype": "int64"
        }
       ],
       "rows": [
        {
         "arrival_date_month": "August",
         "count": 13877,
         "_deepnote_index_column": 0
        },
        {
         "arrival_date_month": "July",
         "count": 12661,
         "_deepnote_index_column": 1
        },
        {
         "arrival_date_month": "May",
         "count": 11791,
         "_deepnote_index_column": 2
        },
        {
         "arrival_date_month": "October",
         "count": 11160,
         "_deepnote_index_column": 3
        },
        {
         "arrival_date_month": "April",
         "count": 11089,
         "_deepnote_index_column": 4
        },
        {
         "arrival_date_month": "June",
         "count": 10939,
         "_deepnote_index_column": 5
        },
        {
         "arrival_date_month": "September",
         "count": 10508,
         "_deepnote_index_column": 6
        },
        {
         "arrival_date_month": "March",
         "count": 9794,
         "_deepnote_index_column": 7
        },
        {
         "arrival_date_month": "February",
         "count": 8068,
         "_deepnote_index_column": 8
        },
        {
         "arrival_date_month": "November",
         "count": 6794,
         "_deepnote_index_column": 9
        }
       ]
      },
      "text/plain": "   arrival_date_month  count\n0              August  13877\n1                July  12661\n2                 May  11791\n3             October  11160\n4               April  11089\n5                June  10939\n6           September  10508\n7               March   9794\n8            February   8068\n9            November   6794\n10           December   6780\n11            January   5929",
      "text/html": "<div>\n<style scoped>\n    .dataframe tbody tr th:only-of-type {\n        vertical-align: middle;\n    }\n\n    .dataframe tbody tr th {\n        vertical-align: top;\n    }\n\n    .dataframe thead th {\n        text-align: right;\n    }\n</style>\n<table border=\"1\" class=\"dataframe\">\n  <thead>\n    <tr style=\"text-align: right;\">\n      <th></th>\n      <th>arrival_date_month</th>\n      <th>count</th>\n    </tr>\n  </thead>\n  <tbody>\n    <tr>\n      <th>0</th>\n      <td>August</td>\n      <td>13877</td>\n    </tr>\n    <tr>\n      <th>1</th>\n      <td>July</td>\n      <td>12661</td>\n    </tr>\n    <tr>\n      <th>2</th>\n      <td>May</td>\n      <td>11791</td>\n    </tr>\n    <tr>\n      <th>3</th>\n      <td>October</td>\n      <td>11160</td>\n    </tr>\n    <tr>\n      <th>4</th>\n      <td>April</td>\n      <td>11089</td>\n    </tr>\n    <tr>\n      <th>5</th>\n      <td>June</td>\n      <td>10939</td>\n    </tr>\n    <tr>\n      <th>6</th>\n      <td>September</td>\n      <td>10508</td>\n    </tr>\n    <tr>\n      <th>7</th>\n      <td>March</td>\n      <td>9794</td>\n    </tr>\n    <tr>\n      <th>8</th>\n      <td>February</td>\n      <td>8068</td>\n    </tr>\n    <tr>\n      <th>9</th>\n      <td>November</td>\n      <td>6794</td>\n    </tr>\n    <tr>\n      <th>10</th>\n      <td>December</td>\n      <td>6780</td>\n    </tr>\n    <tr>\n      <th>11</th>\n      <td>January</td>\n      <td>5929</td>\n    </tr>\n  </tbody>\n</table>\n</div>"
     },
     "metadata": {}
    }
   ]
  },
  {
   "cell_type": "markdown",
   "source": "### 4. What is the average night a customer spend? ",
   "metadata": {
    "cell_id": "a5f2648f-35d2-4532-9161-cd2838dc5b57",
    "tags": [],
    "is_collapsed": false,
    "deepnote_cell_type": "text-cell-h3",
    "deepnote_cell_height": 62
   }
  },
  {
   "cell_type": "code",
   "metadata": {
    "tags": [],
    "deepnote_variable_name": "df_5",
    "sql_integration_id": "b81821bf-50c1-41d8-8a1b-f9765166a7a2",
    "cell_id": "efa8ce93-0f17-4f72-8f01-2e1b3fda0a6a",
    "deepnote_to_be_reexecuted": false,
    "source_hash": "d88ca01",
    "execution_start": 1646504134301,
    "execution_millis": 2667,
    "deepnote_table_state": {
     "pageSize": 10,
     "pageIndex": 47,
     "filters": [],
     "sortBy": []
    },
    "deepnote_table_loading": false,
    "deepnote_sql_source": "SELECT hotel, ROUND(AVG(stays_in_weekend_nights+ stays_in_week_nights)) as avg_night_spent,\nROUND(AVG(stays_in_weekend_nights)) as avg_spent_weekend,\nROUND(AVG(stays_in_week_nights)) as avg_spent_week\nFROM hotel_booking.table0\nWHERE is_canceled=0\nGROUP BY hotel",
    "deepnote_cell_type": "sql",
    "deepnote_cell_height": 349
   },
   "source": "\n\ndf_5 = _deepnote_execute_sql(\"\"\"SELECT hotel, ROUND(AVG(stays_in_weekend_nights+ stays_in_week_nights)) as avg_night_spent,\nROUND(AVG(stays_in_weekend_nights)) as avg_spent_weekend,\nROUND(AVG(stays_in_week_nights)) as avg_spent_week\nFROM hotel_booking.table0\nWHERE is_canceled=0\nGROUP BY hotel\n\"\"\", 'SQL_B81821BF_50C1_41D8_8A1B_F9765166A7A2')\ndf_5",
   "execution_count": null,
   "outputs": [
    {
     "output_type": "execute_result",
     "execution_count": 51,
     "data": {
      "application/vnd.deepnote.dataframe.v3+json": {
       "column_count": 4,
       "row_count": 2,
       "columns": [
        {
         "name": "hotel",
         "dtype": "object",
         "stats": {
          "unique_count": 2,
          "nan_count": 0,
          "categories": [
           {
            "name": "Resort Hotel",
            "count": 1
           },
           {
            "name": "City Hotel",
            "count": 1
           }
          ]
         }
        },
        {
         "name": "avg_night_spent",
         "dtype": "float64",
         "stats": {
          "unique_count": 2,
          "nan_count": 0,
          "min": "3.0",
          "max": "4.0",
          "histogram": [
           {
            "bin_start": 3,
            "bin_end": 3.1,
            "count": 1
           },
           {
            "bin_start": 3.1,
            "bin_end": 3.2,
            "count": 0
           },
           {
            "bin_start": 3.2,
            "bin_end": 3.3,
            "count": 0
           },
           {
            "bin_start": 3.3,
            "bin_end": 3.4,
            "count": 0
           },
           {
            "bin_start": 3.4,
            "bin_end": 3.5,
            "count": 0
           },
           {
            "bin_start": 3.5,
            "bin_end": 3.6,
            "count": 0
           },
           {
            "bin_start": 3.6,
            "bin_end": 3.7,
            "count": 0
           },
           {
            "bin_start": 3.7,
            "bin_end": 3.8,
            "count": 0
           },
           {
            "bin_start": 3.8,
            "bin_end": 3.9,
            "count": 0
           },
           {
            "bin_start": 3.9,
            "bin_end": 4,
            "count": 1
           }
          ]
         }
        },
        {
         "name": "avg_spent_weekend",
         "dtype": "float64",
         "stats": {
          "unique_count": 1,
          "nan_count": 0,
          "min": "1.0",
          "max": "1.0",
          "histogram": [
           {
            "bin_start": 0.5,
            "bin_end": 0.6,
            "count": 0
           },
           {
            "bin_start": 0.6,
            "bin_end": 0.7,
            "count": 0
           },
           {
            "bin_start": 0.7,
            "bin_end": 0.8,
            "count": 0
           },
           {
            "bin_start": 0.8,
            "bin_end": 0.9,
            "count": 0
           },
           {
            "bin_start": 0.9,
            "bin_end": 1,
            "count": 0
           },
           {
            "bin_start": 1,
            "bin_end": 1.1,
            "count": 2
           },
           {
            "bin_start": 1.1,
            "bin_end": 1.2000000000000002,
            "count": 0
           },
           {
            "bin_start": 1.2000000000000002,
            "bin_end": 1.3,
            "count": 0
           },
           {
            "bin_start": 1.3,
            "bin_end": 1.4,
            "count": 0
           },
           {
            "bin_start": 1.4,
            "bin_end": 1.5,
            "count": 0
           }
          ]
         }
        },
        {
         "name": "avg_spent_week",
         "dtype": "float64",
         "stats": {
          "unique_count": 2,
          "nan_count": 0,
          "min": "2.0",
          "max": "3.0",
          "histogram": [
           {
            "bin_start": 2,
            "bin_end": 2.1,
            "count": 1
           },
           {
            "bin_start": 2.1,
            "bin_end": 2.2,
            "count": 0
           },
           {
            "bin_start": 2.2,
            "bin_end": 2.3,
            "count": 0
           },
           {
            "bin_start": 2.3,
            "bin_end": 2.4,
            "count": 0
           },
           {
            "bin_start": 2.4,
            "bin_end": 2.5,
            "count": 0
           },
           {
            "bin_start": 2.5,
            "bin_end": 2.6,
            "count": 0
           },
           {
            "bin_start": 2.6,
            "bin_end": 2.7,
            "count": 0
           },
           {
            "bin_start": 2.7,
            "bin_end": 2.8,
            "count": 0
           },
           {
            "bin_start": 2.8,
            "bin_end": 2.9,
            "count": 0
           },
           {
            "bin_start": 2.9,
            "bin_end": 3,
            "count": 1
           }
          ]
         }
        },
        {
         "name": "_deepnote_index_column",
         "dtype": "int64"
        }
       ],
       "rows": [
        {
         "hotel": "Resort Hotel",
         "avg_night_spent": 4,
         "avg_spent_weekend": 1,
         "avg_spent_week": 3,
         "_deepnote_index_column": 0
        },
        {
         "hotel": "City Hotel",
         "avg_night_spent": 3,
         "avg_spent_weekend": 1,
         "avg_spent_week": 2,
         "_deepnote_index_column": 1
        }
       ]
      },
      "text/plain": "          hotel  avg_night_spent  avg_spent_weekend  avg_spent_week\n0  Resort Hotel              4.0                1.0             3.0\n1    City Hotel              3.0                1.0             2.0",
      "text/html": "<div>\n<style scoped>\n    .dataframe tbody tr th:only-of-type {\n        vertical-align: middle;\n    }\n\n    .dataframe tbody tr th {\n        vertical-align: top;\n    }\n\n    .dataframe thead th {\n        text-align: right;\n    }\n</style>\n<table border=\"1\" class=\"dataframe\">\n  <thead>\n    <tr style=\"text-align: right;\">\n      <th></th>\n      <th>hotel</th>\n      <th>avg_night_spent</th>\n      <th>avg_spent_weekend</th>\n      <th>avg_spent_week</th>\n    </tr>\n  </thead>\n  <tbody>\n    <tr>\n      <th>0</th>\n      <td>Resort Hotel</td>\n      <td>4.0</td>\n      <td>1.0</td>\n      <td>3.0</td>\n    </tr>\n    <tr>\n      <th>1</th>\n      <td>City Hotel</td>\n      <td>3.0</td>\n      <td>1.0</td>\n      <td>2.0</td>\n    </tr>\n  </tbody>\n</table>\n</div>"
     },
     "metadata": {}
    }
   ]
  },
  {
   "cell_type": "markdown",
   "source": "### 5. What is the average daily rate by month?",
   "metadata": {
    "cell_id": "80ea792b-ada4-418e-920e-5eedf4992092",
    "tags": [],
    "is_collapsed": false,
    "deepnote_cell_type": "text-cell-h3",
    "deepnote_cell_height": 62
   }
  },
  {
   "cell_type": "code",
   "metadata": {
    "tags": [],
    "deepnote_variable_name": "df_14",
    "sql_integration_id": "b81821bf-50c1-41d8-8a1b-f9765166a7a2",
    "cell_id": "5b0f974f-3d97-4d14-aa60-4279932392c4",
    "deepnote_to_be_reexecuted": false,
    "source_hash": "4ffd33ff",
    "execution_start": 1646523476375,
    "execution_millis": 2336,
    "deepnote_sql_source": "SELECT arrival_date_month, avg(adr) as avg_adr\nFROM hotel_booking.table0\nGROUP BY arrival_date_month",
    "deepnote_cell_type": "sql",
    "deepnote_cell_height": 142
   },
   "source": "\n\ndf_14 = _deepnote_execute_sql(\"\"\"SELECT arrival_date_month, avg(adr) as avg_adr\nFROM hotel_booking.table0\nGROUP BY arrival_date_month\n\"\"\", 'SQL_B81821BF_50C1_41D8_8A1B_F9765166A7A2')\ndf_14",
   "execution_count": null,
   "outputs": [
    {
     "output_type": "execute_result",
     "execution_count": 64,
     "data": {
      "application/vnd.deepnote.dataframe.v3+json": {
       "column_count": 2,
       "row_count": 12,
       "columns": [
        {
         "name": "arrival_date_month",
         "dtype": "object",
         "stats": {
          "unique_count": 12,
          "nan_count": 0,
          "categories": [
           {
            "name": "July",
            "count": 1
           },
           {
            "name": "August",
            "count": 1
           },
           {
            "name": "10 others",
            "count": 10
           }
          ]
         }
        },
        {
         "name": "avg_adr",
         "dtype": "float64",
         "stats": {
          "unique_count": 12,
          "nan_count": 0,
          "min": "70.36124135604628",
          "max": "140.11152266339968",
          "histogram": [
           {
            "bin_start": 70.36124135604628,
            "bin_end": 77.33626948678162,
            "count": 3
           },
           {
            "bin_start": 77.33626948678162,
            "bin_end": 84.31129761751696,
            "count": 2
           },
           {
            "bin_start": 84.31129761751696,
            "bin_end": 91.2863257482523,
            "count": 1
           },
           {
            "bin_start": 91.2863257482523,
            "bin_end": 98.26135387898765,
            "count": 0
           },
           {
            "bin_start": 98.26135387898765,
            "bin_end": 105.23638200972297,
            "count": 2
           },
           {
            "bin_start": 105.23638200972297,
            "bin_end": 112.21141014045833,
            "count": 1
           },
           {
            "bin_start": 112.21141014045833,
            "bin_end": 119.18643827119367,
            "count": 1
           },
           {
            "bin_start": 119.18643827119367,
            "bin_end": 126.161466401929,
            "count": 0
           },
           {
            "bin_start": 126.161466401929,
            "bin_end": 133.13649453266436,
            "count": 1
           },
           {
            "bin_start": 133.13649453266436,
            "bin_end": 140.11152266339968,
            "count": 1
           }
          ]
         }
        },
        {
         "name": "_deepnote_index_column",
         "dtype": "int64"
        }
       ],
       "rows": [
        {
         "arrival_date_month": "July",
         "avg_adr": 126.78801279519801,
         "_deepnote_index_column": 0
        },
        {
         "arrival_date_month": "August",
         "avg_adr": 140.11152266339968,
         "_deepnote_index_column": 1
        },
        {
         "arrival_date_month": "February",
         "avg_adr": 73.58227565691642,
         "_deepnote_index_column": 2
        },
        {
         "arrival_date_month": "November",
         "avg_adr": 73.79496173093897,
         "_deepnote_index_column": 3
        },
        {
         "arrival_date_month": "December",
         "avg_adr": 81.07677581120936,
         "_deepnote_index_column": 4
        },
        {
         "arrival_date_month": "April",
         "avg_adr": 100.38078997204444,
         "_deepnote_index_column": 5
        },
        {
         "arrival_date_month": "September",
         "avg_adr": 105.04965740388306,
         "_deepnote_index_column": 6
        },
        {
         "arrival_date_month": "October",
         "avg_adr": 87.90887903225803,
         "_deepnote_index_column": 7
        },
        {
         "arrival_date_month": "January",
         "avg_adr": 70.36124135604628,
         "_deepnote_index_column": 8
        },
        {
         "arrival_date_month": "March",
         "avg_adr": 80.67964570144942,
         "_deepnote_index_column": 9
        }
       ]
      },
      "text/plain": "   arrival_date_month     avg_adr\n0                July  126.788013\n1              August  140.111523\n2            February   73.582276\n3            November   73.794962\n4            December   81.076776\n5               April  100.380790\n6           September  105.049657\n7             October   87.908879\n8             January   70.361241\n9               March   80.679646\n10                May  108.695516\n11               June  116.672192",
      "text/html": "<div>\n<style scoped>\n    .dataframe tbody tr th:only-of-type {\n        vertical-align: middle;\n    }\n\n    .dataframe tbody tr th {\n        vertical-align: top;\n    }\n\n    .dataframe thead th {\n        text-align: right;\n    }\n</style>\n<table border=\"1\" class=\"dataframe\">\n  <thead>\n    <tr style=\"text-align: right;\">\n      <th></th>\n      <th>arrival_date_month</th>\n      <th>avg_adr</th>\n    </tr>\n  </thead>\n  <tbody>\n    <tr>\n      <th>0</th>\n      <td>July</td>\n      <td>126.788013</td>\n    </tr>\n    <tr>\n      <th>1</th>\n      <td>August</td>\n      <td>140.111523</td>\n    </tr>\n    <tr>\n      <th>2</th>\n      <td>February</td>\n      <td>73.582276</td>\n    </tr>\n    <tr>\n      <th>3</th>\n      <td>November</td>\n      <td>73.794962</td>\n    </tr>\n    <tr>\n      <th>4</th>\n      <td>December</td>\n      <td>81.076776</td>\n    </tr>\n    <tr>\n      <th>5</th>\n      <td>April</td>\n      <td>100.380790</td>\n    </tr>\n    <tr>\n      <th>6</th>\n      <td>September</td>\n      <td>105.049657</td>\n    </tr>\n    <tr>\n      <th>7</th>\n      <td>October</td>\n      <td>87.908879</td>\n    </tr>\n    <tr>\n      <th>8</th>\n      <td>January</td>\n      <td>70.361241</td>\n    </tr>\n    <tr>\n      <th>9</th>\n      <td>March</td>\n      <td>80.679646</td>\n    </tr>\n    <tr>\n      <th>10</th>\n      <td>May</td>\n      <td>108.695516</td>\n    </tr>\n    <tr>\n      <th>11</th>\n      <td>June</td>\n      <td>116.672192</td>\n    </tr>\n  </tbody>\n</table>\n</div>"
     },
     "metadata": {}
    }
   ]
  },
  {
   "cell_type": "markdown",
   "source": "### 6. Which country has the highest clients?",
   "metadata": {
    "cell_id": "2e6ab8b7-2800-4017-a6e4-a67d901f2e81",
    "tags": [],
    "is_collapsed": false,
    "deepnote_cell_type": "text-cell-h3",
    "deepnote_cell_height": 62
   }
  },
  {
   "cell_type": "code",
   "metadata": {
    "tags": [],
    "deepnote_variable_name": "df_6",
    "sql_integration_id": "b81821bf-50c1-41d8-8a1b-f9765166a7a2",
    "cell_id": "f06e82e5-5a2e-44b7-a23b-dad2125a843a",
    "deepnote_to_be_reexecuted": false,
    "source_hash": "b0ad3d4",
    "execution_start": 1646506460515,
    "execution_millis": 2637,
    "deepnote_sql_source": "SELECT country, count(country) as travellers_by_country\nFROM hotel_booking.table0\nWHERE country is not null AND is_canceled=0 \nGROUP BY country\nORDER by travellers_by_country DESC\n",
    "deepnote_table_state": {
     "pageSize": 10,
     "pageIndex": 0,
     "filters": [],
     "sortBy": []
    },
    "deepnote_table_loading": false,
    "deepnote_cell_type": "sql",
    "deepnote_cell_height": 196
   },
   "source": "\n\ndf_6 = _deepnote_execute_sql(\"\"\"SELECT country, count(country) as travellers_by_country\nFROM hotel_booking.table0\nWHERE country is not null AND is_canceled=0 \nGROUP BY country\nORDER by travellers_by_country DESC\n\n\"\"\", 'SQL_B81821BF_50C1_41D8_8A1B_F9765166A7A2')\ndf_6",
   "execution_count": null,
   "outputs": [
    {
     "output_type": "execute_result",
     "execution_count": 5,
     "data": {
      "application/vnd.deepnote.dataframe.v3+json": {
       "column_count": 2,
       "row_count": 165,
       "columns": [
        {
         "name": "country",
         "dtype": "object",
         "stats": {
          "unique_count": 165,
          "nan_count": 0,
          "categories": [
           {
            "name": "PRT",
            "count": 1
           },
           {
            "name": "GBR",
            "count": 1
           },
           {
            "name": "163 others",
            "count": 163
           }
          ]
         }
        },
        {
         "name": "travellers_by_country",
         "dtype": "int64",
         "stats": {
          "unique_count": 74,
          "nan_count": 0,
          "min": "1",
          "max": "21071",
          "histogram": [
           {
            "bin_start": 1,
            "bin_end": 2108,
            "count": 158
           },
           {
            "bin_start": 2108,
            "bin_end": 4215,
            "count": 2
           },
           {
            "bin_start": 4215,
            "bin_end": 6322,
            "count": 1
           },
           {
            "bin_start": 6322,
            "bin_end": 8429,
            "count": 1
           },
           {
            "bin_start": 8429,
            "bin_end": 10536,
            "count": 2
           },
           {
            "bin_start": 10536,
            "bin_end": 12643,
            "count": 0
           },
           {
            "bin_start": 12643,
            "bin_end": 14750,
            "count": 0
           },
           {
            "bin_start": 14750,
            "bin_end": 16857,
            "count": 0
           },
           {
            "bin_start": 16857,
            "bin_end": 18964,
            "count": 0
           },
           {
            "bin_start": 18964,
            "bin_end": 21071,
            "count": 1
           }
          ]
         }
        },
        {
         "name": "_deepnote_index_column",
         "dtype": "int64"
        }
       ],
       "rows": [
        {
         "country": "PRT",
         "travellers_by_country": 21071,
         "_deepnote_index_column": 0
        },
        {
         "country": "GBR",
         "travellers_by_country": 9676,
         "_deepnote_index_column": 1
        },
        {
         "country": "FRA",
         "travellers_by_country": 8481,
         "_deepnote_index_column": 2
        },
        {
         "country": "ESP",
         "travellers_by_country": 6391,
         "_deepnote_index_column": 3
        },
        {
         "country": "DEU",
         "travellers_by_country": 6069,
         "_deepnote_index_column": 4
        },
        {
         "country": "IRL",
         "travellers_by_country": 2543,
         "_deepnote_index_column": 5
        },
        {
         "country": "ITA",
         "travellers_by_country": 2433,
         "_deepnote_index_column": 6
        },
        {
         "country": "BEL",
         "travellers_by_country": 1868,
         "_deepnote_index_column": 7
        },
        {
         "country": "NLD",
         "travellers_by_country": 1717,
         "_deepnote_index_column": 8
        },
        {
         "country": "USA",
         "travellers_by_country": 1596,
         "_deepnote_index_column": 9
        }
       ]
      },
      "text/plain": "    country  travellers_by_country\n0       PRT                  21071\n1       GBR                   9676\n2       FRA                   8481\n3       ESP                   6391\n4       DEU                   6069\n..      ...                    ...\n160     NCL                      1\n161     FRO                      1\n162     AIA                      1\n163     ZMB                      1\n164     DJI                      1\n\n[165 rows x 2 columns]",
      "text/html": "<div>\n<style scoped>\n    .dataframe tbody tr th:only-of-type {\n        vertical-align: middle;\n    }\n\n    .dataframe tbody tr th {\n        vertical-align: top;\n    }\n\n    .dataframe thead th {\n        text-align: right;\n    }\n</style>\n<table border=\"1\" class=\"dataframe\">\n  <thead>\n    <tr style=\"text-align: right;\">\n      <th></th>\n      <th>country</th>\n      <th>travellers_by_country</th>\n    </tr>\n  </thead>\n  <tbody>\n    <tr>\n      <th>0</th>\n      <td>PRT</td>\n      <td>21071</td>\n    </tr>\n    <tr>\n      <th>1</th>\n      <td>GBR</td>\n      <td>9676</td>\n    </tr>\n    <tr>\n      <th>2</th>\n      <td>FRA</td>\n      <td>8481</td>\n    </tr>\n    <tr>\n      <th>3</th>\n      <td>ESP</td>\n      <td>6391</td>\n    </tr>\n    <tr>\n      <th>4</th>\n      <td>DEU</td>\n      <td>6069</td>\n    </tr>\n    <tr>\n      <th>...</th>\n      <td>...</td>\n      <td>...</td>\n    </tr>\n    <tr>\n      <th>160</th>\n      <td>NCL</td>\n      <td>1</td>\n    </tr>\n    <tr>\n      <th>161</th>\n      <td>FRO</td>\n      <td>1</td>\n    </tr>\n    <tr>\n      <th>162</th>\n      <td>AIA</td>\n      <td>1</td>\n    </tr>\n    <tr>\n      <th>163</th>\n      <td>ZMB</td>\n      <td>1</td>\n    </tr>\n    <tr>\n      <th>164</th>\n      <td>DJI</td>\n      <td>1</td>\n    </tr>\n  </tbody>\n</table>\n<p>165 rows × 2 columns</p>\n</div>"
     },
     "metadata": {}
    }
   ]
  },
  {
   "cell_type": "markdown",
   "source": "### 7. In which hotel, customers with children stay the most?",
   "metadata": {
    "cell_id": "6acbed65-5e5e-4184-a5a4-f3bb4755437c",
    "tags": [],
    "is_collapsed": false,
    "deepnote_cell_type": "text-cell-h3",
    "deepnote_cell_height": 62
   }
  },
  {
   "cell_type": "code",
   "metadata": {
    "tags": [],
    "deepnote_variable_name": "df_7",
    "sql_integration_id": "b81821bf-50c1-41d8-8a1b-f9765166a7a2",
    "cell_id": "21247ff4-6cfa-4c57-9834-b2f189eb7ebd",
    "deepnote_to_be_reexecuted": false,
    "source_hash": "99573ac5",
    "execution_start": 1646520730584,
    "execution_millis": 2405,
    "deepnote_sql_source": "SELECT hotel, COUNT(*) as customer_w_child\nFROM hotel_booking.table0\nWHERE children>0 OR babies>0\nGROUP BY hotel",
    "deepnote_cell_type": "sql",
    "deepnote_cell_height": 160
   },
   "source": "\n\ndf_7 = _deepnote_execute_sql(\"\"\"SELECT hotel, COUNT(*) as customer_w_child\nFROM hotel_booking.table0\nWHERE children>0 OR babies>0\nGROUP BY hotel\n\"\"\", 'SQL_B81821BF_50C1_41D8_8A1B_F9765166A7A2')\ndf_7",
   "execution_count": null,
   "outputs": [
    {
     "output_type": "execute_result",
     "execution_count": 28,
     "data": {
      "application/vnd.deepnote.dataframe.v3+json": {
       "column_count": 2,
       "row_count": 2,
       "columns": [
        {
         "name": "hotel",
         "dtype": "object",
         "stats": {
          "unique_count": 2,
          "nan_count": 0,
          "categories": [
           {
            "name": "Resort Hotel",
            "count": 1
           },
           {
            "name": "City Hotel",
            "count": 1
           }
          ]
         }
        },
        {
         "name": "customer_w_child",
         "dtype": "int64",
         "stats": {
          "unique_count": 2,
          "nan_count": 0,
          "min": "3929",
          "max": "5403",
          "histogram": [
           {
            "bin_start": 3929,
            "bin_end": 4076.4,
            "count": 1
           },
           {
            "bin_start": 4076.4,
            "bin_end": 4223.8,
            "count": 0
           },
           {
            "bin_start": 4223.8,
            "bin_end": 4371.2,
            "count": 0
           },
           {
            "bin_start": 4371.2,
            "bin_end": 4518.6,
            "count": 0
           },
           {
            "bin_start": 4518.6,
            "bin_end": 4666,
            "count": 0
           },
           {
            "bin_start": 4666,
            "bin_end": 4813.4,
            "count": 0
           },
           {
            "bin_start": 4813.4,
            "bin_end": 4960.8,
            "count": 0
           },
           {
            "bin_start": 4960.8,
            "bin_end": 5108.2,
            "count": 0
           },
           {
            "bin_start": 5108.2,
            "bin_end": 5255.6,
            "count": 0
           },
           {
            "bin_start": 5255.6,
            "bin_end": 5403,
            "count": 1
           }
          ]
         }
        },
        {
         "name": "_deepnote_index_column",
         "dtype": "int64"
        }
       ],
       "rows": [
        {
         "hotel": "Resort Hotel",
         "customer_w_child": 3929,
         "_deepnote_index_column": 0
        },
        {
         "hotel": "City Hotel",
         "customer_w_child": 5403,
         "_deepnote_index_column": 1
        }
       ]
      },
      "text/plain": "          hotel  customer_w_child\n0  Resort Hotel              3929\n1    City Hotel              5403",
      "text/html": "<div>\n<style scoped>\n    .dataframe tbody tr th:only-of-type {\n        vertical-align: middle;\n    }\n\n    .dataframe tbody tr th {\n        vertical-align: top;\n    }\n\n    .dataframe thead th {\n        text-align: right;\n    }\n</style>\n<table border=\"1\" class=\"dataframe\">\n  <thead>\n    <tr style=\"text-align: right;\">\n      <th></th>\n      <th>hotel</th>\n      <th>customer_w_child</th>\n    </tr>\n  </thead>\n  <tbody>\n    <tr>\n      <th>0</th>\n      <td>Resort Hotel</td>\n      <td>3929</td>\n    </tr>\n    <tr>\n      <th>1</th>\n      <td>City Hotel</td>\n      <td>5403</td>\n    </tr>\n  </tbody>\n</table>\n</div>"
     },
     "metadata": {}
    }
   ]
  },
  {
   "cell_type": "markdown",
   "source": "### 8. Which month has the most cancellations?",
   "metadata": {
    "cell_id": "ba94525d-3592-4f7a-b56e-92e0f7103490",
    "tags": [],
    "is_collapsed": false,
    "deepnote_cell_type": "text-cell-h3",
    "deepnote_cell_height": 62
   }
  },
  {
   "cell_type": "code",
   "metadata": {
    "tags": [],
    "deepnote_variable_name": "df_15",
    "sql_integration_id": "b81821bf-50c1-41d8-8a1b-f9765166a7a2",
    "cell_id": "8e7cda39-ae14-431c-80a1-83743ffac34f",
    "deepnote_sql_source": "SELECT arrival_date_month, COUNT(*) as count\nFROM hotel_booking.table0\nWHERE is_canceled=1\nGROUP BY arrival_date_month\nORDER BY count DESC",
    "deepnote_cell_type": "sql",
    "deepnote_cell_height": 178
   },
   "source": "\n\ndf_15 = _deepnote_execute_sql(\"\"\"SELECT arrival_date_month, COUNT(*) as count\nFROM hotel_booking.table0\nWHERE is_canceled=1\nGROUP BY arrival_date_month\nORDER BY count DESC\n\"\"\", 'SQL_B81821BF_50C1_41D8_8A1B_F9765166A7A2')\ndf_15",
   "execution_count": null,
   "outputs": []
  },
  {
   "cell_type": "markdown",
   "source": "### 9. What is the ratio of cancellation by hotel?",
   "metadata": {
    "cell_id": "9acead0a-5a8c-409c-a130-5e5c5ac92665",
    "tags": [],
    "is_collapsed": false,
    "deepnote_cell_type": "text-cell-h3",
    "deepnote_cell_height": 62
   }
  },
  {
   "cell_type": "code",
   "metadata": {
    "tags": [],
    "deepnote_variable_name": "df_15",
    "sql_integration_id": "b81821bf-50c1-41d8-8a1b-f9765166a7a2",
    "cell_id": "8fc0eb8f-9c8d-411a-b20e-4310eaaae44a",
    "deepnote_sql_source": "SELECT hotel, sum(case when is_canceled=1 then 1 else 0 end)/count(*) as canceled\nFROM hotel_booking.table0\nGROUP By hotel",
    "deepnote_cell_type": "sql",
    "deepnote_cell_height": 142
   },
   "source": "\n\ndf_15 = _deepnote_execute_sql(\"\"\"SELECT hotel, sum(case when is_canceled=1 then 1 else 0 end)/count(*) as canceled\nFROM hotel_booking.table0\nGROUP By hotel\n\"\"\", 'SQL_B81821BF_50C1_41D8_8A1B_F9765166A7A2')\ndf_15",
   "execution_count": null,
   "outputs": []
  },
  {
   "cell_type": "markdown",
   "source": "### 10. Is there a relation between deposit type and cancellations?",
   "metadata": {
    "cell_id": "fe6befa1-914e-4638-946c-04b359a945bb",
    "tags": [],
    "is_collapsed": false,
    "deepnote_cell_type": "text-cell-h3",
    "deepnote_cell_height": 62
   }
  },
  {
   "cell_type": "markdown",
   "source": "By number",
   "metadata": {
    "cell_id": "8ea1bf85-331f-42fc-9e09-ed4b8c4579e8",
    "tags": [],
    "is_collapsed": false,
    "deepnote_cell_type": "text-cell-p",
    "deepnote_cell_height": 52.390625
   }
  },
  {
   "cell_type": "code",
   "metadata": {
    "tags": [],
    "deepnote_variable_name": "df_11",
    "sql_integration_id": "b81821bf-50c1-41d8-8a1b-f9765166a7a2",
    "cell_id": "75127c3d-45e3-4871-ab0f-31e2fa998e63",
    "deepnote_to_be_reexecuted": false,
    "source_hash": "fef7f498",
    "execution_start": 1646520637287,
    "execution_millis": 2422,
    "deepnote_sql_source": "SELECT deposit_type, count(*) as canceled\nFROM hotel_booking.table0\nWHERE is_canceled=1\nGROUP BY deposit_type",
    "deepnote_cell_type": "sql",
    "deepnote_cell_height": 354
   },
   "source": "\n\ndf_11 = _deepnote_execute_sql(\"\"\"SELECT deposit_type, count(*) as canceled\nFROM hotel_booking.table0\nWHERE is_canceled=1\nGROUP BY deposit_type\n\"\"\", 'SQL_B81821BF_50C1_41D8_8A1B_F9765166A7A2')\ndf_11",
   "execution_count": null,
   "outputs": [
    {
     "output_type": "execute_result",
     "execution_count": 25,
     "data": {
      "application/vnd.deepnote.dataframe.v3+json": {
       "column_count": 2,
       "row_count": 3,
       "columns": [
        {
         "name": "deposit_type",
         "dtype": "object",
         "stats": {
          "unique_count": 3,
          "nan_count": 0,
          "categories": [
           {
            "name": "No Deposit",
            "count": 1
           },
           {
            "name": "Non Refund",
            "count": 1
           },
           {
            "name": "Refundable",
            "count": 1
           }
          ]
         }
        },
        {
         "name": "canceled",
         "dtype": "int64",
         "stats": {
          "unique_count": 3,
          "nan_count": 0,
          "min": "36",
          "max": "29694",
          "histogram": [
           {
            "bin_start": 36,
            "bin_end": 3001.8,
            "count": 1
           },
           {
            "bin_start": 3001.8,
            "bin_end": 5967.6,
            "count": 0
           },
           {
            "bin_start": 5967.6,
            "bin_end": 8933.400000000001,
            "count": 0
           },
           {
            "bin_start": 8933.400000000001,
            "bin_end": 11899.2,
            "count": 0
           },
           {
            "bin_start": 11899.2,
            "bin_end": 14865,
            "count": 1
           },
           {
            "bin_start": 14865,
            "bin_end": 17830.800000000003,
            "count": 0
           },
           {
            "bin_start": 17830.800000000003,
            "bin_end": 20796.600000000002,
            "count": 0
           },
           {
            "bin_start": 20796.600000000002,
            "bin_end": 23762.4,
            "count": 0
           },
           {
            "bin_start": 23762.4,
            "bin_end": 26728.2,
            "count": 0
           },
           {
            "bin_start": 26728.2,
            "bin_end": 29694,
            "count": 1
           }
          ]
         }
        },
        {
         "name": "_deepnote_index_column",
         "dtype": "int64"
        }
       ],
       "rows": [
        {
         "deposit_type": "No Deposit",
         "canceled": 29694,
         "_deepnote_index_column": 0
        },
        {
         "deposit_type": "Non Refund",
         "canceled": 14494,
         "_deepnote_index_column": 1
        },
        {
         "deposit_type": "Refundable",
         "canceled": 36,
         "_deepnote_index_column": 2
        }
       ]
      },
      "text/plain": "  deposit_type  canceled\n0   No Deposit     29694\n1   Non Refund     14494\n2   Refundable        36",
      "text/html": "<div>\n<style scoped>\n    .dataframe tbody tr th:only-of-type {\n        vertical-align: middle;\n    }\n\n    .dataframe tbody tr th {\n        vertical-align: top;\n    }\n\n    .dataframe thead th {\n        text-align: right;\n    }\n</style>\n<table border=\"1\" class=\"dataframe\">\n  <thead>\n    <tr style=\"text-align: right;\">\n      <th></th>\n      <th>deposit_type</th>\n      <th>canceled</th>\n    </tr>\n  </thead>\n  <tbody>\n    <tr>\n      <th>0</th>\n      <td>No Deposit</td>\n      <td>29694</td>\n    </tr>\n    <tr>\n      <th>1</th>\n      <td>Non Refund</td>\n      <td>14494</td>\n    </tr>\n    <tr>\n      <th>2</th>\n      <td>Refundable</td>\n      <td>36</td>\n    </tr>\n  </tbody>\n</table>\n</div>"
     },
     "metadata": {}
    }
   ]
  },
  {
   "cell_type": "markdown",
   "source": "By percentage",
   "metadata": {
    "cell_id": "cd060c29-9bd4-427f-8f60-09742a72e584",
    "tags": [],
    "is_collapsed": false,
    "deepnote_cell_type": "text-cell-p",
    "deepnote_cell_height": 52.390625
   }
  },
  {
   "cell_type": "code",
   "metadata": {
    "tags": [],
    "deepnote_variable_name": "df_11",
    "sql_integration_id": "b81821bf-50c1-41d8-8a1b-f9765166a7a2",
    "cell_id": "3b659373-96f2-4137-a7f9-a703a36f0619",
    "deepnote_to_be_reexecuted": false,
    "source_hash": "5522a87a",
    "execution_start": 1646520548563,
    "execution_millis": 2524,
    "deepnote_sql_source": "SELECT \nsum(case when deposit_type='No Deposit' then 1 else 0 end)/count(*) as no_deposit,\nsum(case when deposit_type='Non Refund' then 1 else 0 end)/count(*) as non_refund,\nsum(case when deposit_type='Refundable' then 1 else 0 end)/count(*) as refundable\nFROM hotel_booking.table0",
    "deepnote_cell_type": "sql",
    "deepnote_cell_height": 290
   },
   "source": "\n\ndf_11 = _deepnote_execute_sql(\"\"\"SELECT \nsum(case when deposit_type='No Deposit' then 1 else 0 end)/count(*) as no_deposit,\nsum(case when deposit_type='Non Refund' then 1 else 0 end)/count(*) as non_refund,\nsum(case when deposit_type='Refundable' then 1 else 0 end)/count(*) as refundable\nFROM hotel_booking.table0\n\"\"\", 'SQL_B81821BF_50C1_41D8_8A1B_F9765166A7A2')\ndf_11",
   "execution_count": null,
   "outputs": [
    {
     "output_type": "execute_result",
     "execution_count": 22,
     "data": {
      "application/vnd.deepnote.dataframe.v3+json": {
       "column_count": 3,
       "row_count": 1,
       "columns": [
        {
         "name": "no_deposit",
         "dtype": "float64",
         "stats": {
          "unique_count": 1,
          "nan_count": 0,
          "min": "0.8764636904263339",
          "max": "0.8764636904263339",
          "histogram": [
           {
            "bin_start": 0.3764636904263339,
            "bin_end": 0.47646369042633385,
            "count": 0
           },
           {
            "bin_start": 0.47646369042633385,
            "bin_end": 0.5764636904263338,
            "count": 0
           },
           {
            "bin_start": 0.5764636904263338,
            "bin_end": 0.6764636904263339,
            "count": 0
           },
           {
            "bin_start": 0.6764636904263339,
            "bin_end": 0.7764636904263339,
            "count": 0
           },
           {
            "bin_start": 0.7764636904263339,
            "bin_end": 0.8764636904263339,
            "count": 0
           },
           {
            "bin_start": 0.8764636904263339,
            "bin_end": 0.976463690426334,
            "count": 1
           },
           {
            "bin_start": 0.976463690426334,
            "bin_end": 1.0764636904263338,
            "count": 0
           },
           {
            "bin_start": 1.0764636904263338,
            "bin_end": 1.176463690426334,
            "count": 0
           },
           {
            "bin_start": 1.176463690426334,
            "bin_end": 1.276463690426334,
            "count": 0
           },
           {
            "bin_start": 1.276463690426334,
            "bin_end": 1.3764636904263339,
            "count": 0
           }
          ]
         }
        },
        {
         "name": "non_refund",
         "dtype": "float64",
         "stats": {
          "unique_count": 1,
          "nan_count": 0,
          "min": "0.1221794120110562",
          "max": "0.1221794120110562",
          "histogram": [
           {
            "bin_start": -0.3778205879889438,
            "bin_end": -0.2778205879889438,
            "count": 0
           },
           {
            "bin_start": -0.2778205879889438,
            "bin_end": -0.1778205879889438,
            "count": 0
           },
           {
            "bin_start": -0.1778205879889438,
            "bin_end": -0.07782058798894376,
            "count": 0
           },
           {
            "bin_start": -0.07782058798894376,
            "bin_end": 0.02217941201105622,
            "count": 0
           },
           {
            "bin_start": 0.02217941201105622,
            "bin_end": 0.1221794120110562,
            "count": 0
           },
           {
            "bin_start": 0.1221794120110562,
            "bin_end": 0.2221794120110563,
            "count": 1
           },
           {
            "bin_start": 0.2221794120110563,
            "bin_end": 0.32217941201105627,
            "count": 0
           },
           {
            "bin_start": 0.32217941201105627,
            "bin_end": 0.42217941201105624,
            "count": 0
           },
           {
            "bin_start": 0.42217941201105624,
            "bin_end": 0.5221794120110562,
            "count": 0
           },
           {
            "bin_start": 0.5221794120110562,
            "bin_end": 0.6221794120110562,
            "count": 0
           }
          ]
         }
        },
        {
         "name": "refundable",
         "dtype": "float64",
         "stats": {
          "unique_count": 1,
          "nan_count": 0,
          "min": "0.0013568975626099338",
          "max": "0.0013568975626099338",
          "histogram": [
           {
            "bin_start": -0.4986431024373901,
            "bin_end": -0.3986431024373901,
            "count": 0
           },
           {
            "bin_start": -0.3986431024373901,
            "bin_end": -0.29864310243739006,
            "count": 0
           },
           {
            "bin_start": -0.29864310243739006,
            "bin_end": -0.19864310243739003,
            "count": 0
           },
           {
            "bin_start": -0.19864310243739003,
            "bin_end": -0.09864310243739005,
            "count": 0
           },
           {
            "bin_start": -0.09864310243739005,
            "bin_end": 0.0013568975626099267,
            "count": 0
           },
           {
            "bin_start": 0.0013568975626099267,
            "bin_end": 0.10135689756261002,
            "count": 1
           },
           {
            "bin_start": 0.10135689756261002,
            "bin_end": 0.20135689756261,
            "count": 0
           },
           {
            "bin_start": 0.20135689756261,
            "bin_end": 0.30135689756260997,
            "count": 0
           },
           {
            "bin_start": 0.30135689756260997,
            "bin_end": 0.40135689756260995,
            "count": 0
           },
           {
            "bin_start": 0.40135689756260995,
            "bin_end": 0.5013568975626099,
            "count": 0
           }
          ]
         }
        },
        {
         "name": "_deepnote_index_column",
         "dtype": "int64"
        }
       ],
       "rows": [
        {
         "no_deposit": 0.8764636904263339,
         "non_refund": 0.1221794120110562,
         "refundable": 0.0013568975626099338,
         "_deepnote_index_column": 0
        }
       ]
      },
      "text/plain": "   no_deposit  non_refund  refundable\n0    0.876464    0.122179    0.001357",
      "text/html": "<div>\n<style scoped>\n    .dataframe tbody tr th:only-of-type {\n        vertical-align: middle;\n    }\n\n    .dataframe tbody tr th {\n        vertical-align: top;\n    }\n\n    .dataframe thead th {\n        text-align: right;\n    }\n</style>\n<table border=\"1\" class=\"dataframe\">\n  <thead>\n    <tr style=\"text-align: right;\">\n      <th></th>\n      <th>no_deposit</th>\n      <th>non_refund</th>\n      <th>refundable</th>\n    </tr>\n  </thead>\n  <tbody>\n    <tr>\n      <th>0</th>\n      <td>0.876464</td>\n      <td>0.122179</td>\n      <td>0.001357</td>\n    </tr>\n  </tbody>\n</table>\n</div>"
     },
     "metadata": {}
    }
   ]
  },
  {
   "cell_type": "markdown",
   "source": "### 11. Is there a relation between special requests and cancellations?",
   "metadata": {
    "cell_id": "0265fb14-3d88-4e72-9d24-f5f36f14f5a7",
    "tags": [],
    "is_collapsed": false,
    "deepnote_cell_type": "text-cell-h3",
    "deepnote_cell_height": 62
   }
  },
  {
   "cell_type": "code",
   "metadata": {
    "tags": [],
    "deepnote_variable_name": "df_13",
    "sql_integration_id": "b81821bf-50c1-41d8-8a1b-f9765166a7a2",
    "cell_id": "ea6ee265-9018-4ff6-ad22-7e5f44341bd8",
    "deepnote_to_be_reexecuted": false,
    "source_hash": "9bc51ac8",
    "execution_start": 1646523320619,
    "execution_millis": 2300,
    "deepnote_sql_source": "SELECT\nsum(case when total_of_special_requests>0 then 1 else 0 end)/count(*) as special_requests,\nsum(case when total_of_special_requests=0 then 1 else 0 end)/count(*) as no_special_requests\nFROM hotel_booking.table0\nWHERE is_canceled=1",
    "deepnote_cell_type": "sql",
    "deepnote_cell_height": 290
   },
   "source": "\n\ndf_13 = _deepnote_execute_sql(\"\"\"SELECT\nsum(case when total_of_special_requests>0 then 1 else 0 end)/count(*) as special_requests,\nsum(case when total_of_special_requests=0 then 1 else 0 end)/count(*) as no_special_requests\nFROM hotel_booking.table0\nWHERE is_canceled=1\n\"\"\", 'SQL_B81821BF_50C1_41D8_8A1B_F9765166A7A2')\ndf_13",
   "execution_count": null,
   "outputs": [
    {
     "output_type": "execute_result",
     "execution_count": 63,
     "data": {
      "application/vnd.deepnote.dataframe.v3+json": {
       "column_count": 2,
       "row_count": 1,
       "columns": [
        {
         "name": "special_requests",
         "dtype": "float64",
         "stats": {
          "unique_count": 1,
          "nan_count": 0,
          "min": "0.24122648335745298",
          "max": "0.24122648335745298",
          "histogram": [
           {
            "bin_start": -0.258773516642547,
            "bin_end": -0.158773516642547,
            "count": 0
           },
           {
            "bin_start": -0.158773516642547,
            "bin_end": -0.058773516642546986,
            "count": 0
           },
           {
            "bin_start": -0.058773516642546986,
            "bin_end": 0.04122648335745305,
            "count": 0
           },
           {
            "bin_start": 0.04122648335745305,
            "bin_end": 0.14122648335745303,
            "count": 0
           },
           {
            "bin_start": 0.14122648335745303,
            "bin_end": 0.241226483357453,
            "count": 1
           },
           {
            "bin_start": 0.241226483357453,
            "bin_end": 0.3412264833574531,
            "count": 0
           },
           {
            "bin_start": 0.3412264833574531,
            "bin_end": 0.44122648335745307,
            "count": 0
           },
           {
            "bin_start": 0.44122648335745307,
            "bin_end": 0.541226483357453,
            "count": 0
           },
           {
            "bin_start": 0.541226483357453,
            "bin_end": 0.641226483357453,
            "count": 0
           },
           {
            "bin_start": 0.641226483357453,
            "bin_end": 0.741226483357453,
            "count": 0
           }
          ]
         }
        },
        {
         "name": "no_special_requests",
         "dtype": "float64",
         "stats": {
          "unique_count": 1,
          "nan_count": 0,
          "min": "0.758773516642547",
          "max": "0.758773516642547",
          "histogram": [
           {
            "bin_start": 0.258773516642547,
            "bin_end": 0.358773516642547,
            "count": 0
           },
           {
            "bin_start": 0.358773516642547,
            "bin_end": 0.458773516642547,
            "count": 0
           },
           {
            "bin_start": 0.458773516642547,
            "bin_end": 0.558773516642547,
            "count": 0
           },
           {
            "bin_start": 0.558773516642547,
            "bin_end": 0.658773516642547,
            "count": 0
           },
           {
            "bin_start": 0.658773516642547,
            "bin_end": 0.758773516642547,
            "count": 0
           },
           {
            "bin_start": 0.758773516642547,
            "bin_end": 0.8587735166425471,
            "count": 1
           },
           {
            "bin_start": 0.8587735166425471,
            "bin_end": 0.9587735166425471,
            "count": 0
           },
           {
            "bin_start": 0.9587735166425471,
            "bin_end": 1.058773516642547,
            "count": 0
           },
           {
            "bin_start": 1.058773516642547,
            "bin_end": 1.158773516642547,
            "count": 0
           },
           {
            "bin_start": 1.158773516642547,
            "bin_end": 1.258773516642547,
            "count": 0
           }
          ]
         }
        },
        {
         "name": "_deepnote_index_column",
         "dtype": "int64"
        }
       ],
       "rows": [
        {
         "special_requests": 0.24122648335745298,
         "no_special_requests": 0.758773516642547,
         "_deepnote_index_column": 0
        }
       ]
      },
      "text/plain": "   special_requests  no_special_requests\n0          0.241226             0.758774",
      "text/html": "<div>\n<style scoped>\n    .dataframe tbody tr th:only-of-type {\n        vertical-align: middle;\n    }\n\n    .dataframe tbody tr th {\n        vertical-align: top;\n    }\n\n    .dataframe thead th {\n        text-align: right;\n    }\n</style>\n<table border=\"1\" class=\"dataframe\">\n  <thead>\n    <tr style=\"text-align: right;\">\n      <th></th>\n      <th>special_requests</th>\n      <th>no_special_requests</th>\n    </tr>\n  </thead>\n  <tbody>\n    <tr>\n      <th>0</th>\n      <td>0.241226</td>\n      <td>0.758774</td>\n    </tr>\n  </tbody>\n</table>\n</div>"
     },
     "metadata": {}
    }
   ]
  },
  {
   "cell_type": "markdown",
   "source": "<a style='text-decoration:none;line-height:16px;display:flex;color:#5B5B62;padding:10px;justify-content:end;' href='https://deepnote.com?utm_source=created-in-deepnote-cell&projectId=647a781c-4efd-4039-b0f0-a0e198674fb1' target=\"_blank\">\n<img alt='Created in deepnote.com' style='display:inline;max-height:16px;margin:0px;margin-right:7.5px;' src='data:image/svg+xml;base64,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' > </img>\nCreated in <span style='font-weight:600;margin-left:4px;'>Deepnote</span></a>",
   "metadata": {
    "tags": [],
    "created_in_deepnote_cell": true,
    "deepnote_cell_type": "markdown"
   }
  }
 ],
 "nbformat": 4,
 "nbformat_minor": 2,
 "metadata": {
  "orig_nbformat": 2,
  "deepnote": {
   "is_reactive": false
  },
  "deepnote_notebook_id": "76590244-437d-450a-acf8-67713dd08bee",
  "deepnote_execution_queue": []
 }
}